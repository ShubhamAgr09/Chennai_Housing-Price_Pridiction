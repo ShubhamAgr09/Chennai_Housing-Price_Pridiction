{
  "cells": [
    {
      "cell_type": "markdown",
      "source": [
        "# **Problem Statement**"
      ],
      "metadata": {
        "id": "HRdZPA6BZRDn"
      }
    },
    {
      "cell_type": "markdown",
      "source": [
        "Real estate transactions are quite opaque sometimes and it may be difficult for a rookie buyer to know the fair price of any given home. Thus, multiple real estate websites have the functionality to predict the prices of houses given different features regarding it. Such forecasting models will help buyers to identify a fair price for the home and also give insights to sellers as to how to build homes that fetch them more money.\n",
        "\n",
        "Motivation is to build a sales price prediction model that will help the customers to find a fair price for their homes in an affordabel range and also help the sellers understand what factors are fetching more customers for the houses.\n"
      ],
      "metadata": {
        "id": "0EMvWyvAZF73"
      }
    },
    {
      "cell_type": "code",
      "execution_count": 1,
      "metadata": {
        "id": "23fh94T_8vD5"
      },
      "outputs": [],
      "source": [
        "import pandas as pd\n",
        "import numpy as np\n",
        "import matplotlib.pyplot as plt\n",
        "import seaborn as sns\n",
        "import warnings\n",
        "warnings.filterwarnings('ignore')"
      ]
    },
    {
      "cell_type": "markdown",
      "metadata": {
        "id": "dPHn4hfZNmOf"
      },
      "source": [
        "# DATA"
      ]
    },
    {
      "cell_type": "markdown",
      "source": [
        "##CLEANING"
      ],
      "metadata": {
        "id": "fb322LVMmm5a"
      }
    },
    {
      "cell_type": "code",
      "execution_count": 2,
      "metadata": {
        "colab": {
          "base_uri": "https://localhost:8080/"
        },
        "id": "ynNVVPTI86A9",
        "outputId": "94213f5d-e668-4cb5-fa00-3e970e69d271"
      },
      "outputs": [
        {
          "output_type": "stream",
          "name": "stdout",
          "text": [
            "<class 'pandas.core.frame.DataFrame'>\n",
            "RangeIndex: 7109 entries, 0 to 7108\n",
            "Data columns (total 22 columns):\n",
            " #   Column         Non-Null Count  Dtype         \n",
            "---  ------         --------------  -----         \n",
            " 0   PRT_ID         7109 non-null   object        \n",
            " 1   AREA           7109 non-null   object        \n",
            " 2   INT_SQFT       7109 non-null   int64         \n",
            " 3   DATE_SALE      7109 non-null   datetime64[ns]\n",
            " 4   DIST_MAINROAD  7109 non-null   int64         \n",
            " 5   N_BEDROOM      7108 non-null   float64       \n",
            " 6   N_BATHROOM     7104 non-null   float64       \n",
            " 7   N_ROOM         7109 non-null   int64         \n",
            " 8   SALE_COND      7109 non-null   object        \n",
            " 9   PARK_FACIL     7109 non-null   object        \n",
            " 10  DATE_BUILD     7109 non-null   datetime64[ns]\n",
            " 11  BUILDTYPE      7109 non-null   object        \n",
            " 12  UTILITY_AVAIL  7109 non-null   object        \n",
            " 13  STREET         7109 non-null   object        \n",
            " 14  MZZONE         7109 non-null   object        \n",
            " 15  QS_ROOMS       7109 non-null   float64       \n",
            " 16  QS_BATHROOM    7109 non-null   float64       \n",
            " 17  QS_BEDROOM     7109 non-null   float64       \n",
            " 18  QS_OVERALL     7061 non-null   float64       \n",
            " 19  REG_FEE        7109 non-null   int64         \n",
            " 20  COMMIS         7109 non-null   int64         \n",
            " 21  SALES_PRICE    7109 non-null   int64         \n",
            "dtypes: datetime64[ns](2), float64(6), int64(6), object(8)\n",
            "memory usage: 1.2+ MB\n"
          ]
        }
      ],
      "source": [
        "df = pd.read_csv('https://raw.githubusercontent.com/ShubhamAgr09/Training-Datasets/main/train-chennai-sale.csv')\n",
        "df['DATE_SALE'] = pd.to_datetime(df['DATE_SALE'])\n",
        "df['DATE_BUILD'] = pd.to_datetime(df['DATE_BUILD'])\n",
        "df.info()"
      ]
    },
    {
      "cell_type": "markdown",
      "source": [
        "DEALING WITH NULL VALUES"
      ],
      "metadata": {
        "id": "GuiVO_WuoPCG"
      }
    },
    {
      "cell_type": "code",
      "execution_count": 3,
      "metadata": {
        "colab": {
          "base_uri": "https://localhost:8080/"
        },
        "id": "T5Kv-ci_OGBs",
        "outputId": "aabb11c4-344c-418c-f9d9-4ffb248b029a"
      },
      "outputs": [
        {
          "output_type": "stream",
          "name": "stdout",
          "text": [
            "Duplicates present in data:  0\n",
            "As we have corrected the datatypes and there are no null/duplicate values anymore, we can proceed for data pre-processing.\n"
          ]
        }
      ],
      "source": [
        "print('Duplicates present in data: ', df.duplicated().sum())\n",
        "print(\"As we have corrected the datatypes and there are no null/duplicate values anymore, we can proceed for data pre-processing.\")"
      ]
    },
    {
      "cell_type": "markdown",
      "metadata": {
        "id": "BXHTb2MoPh6z"
      },
      "source": [
        "##DATA ENGINEERING"
      ]
    },
    {
      "cell_type": "code",
      "execution_count": 4,
      "metadata": {
        "id": "eveJ94Asidw1"
      },
      "outputs": [],
      "source": [
        "df['AGE'] = df.DATE_SALE - df.DATE_BUILD\n",
        "df.AGE = df.AGE.dt.components.days"
      ]
    },
    {
      "cell_type": "code",
      "execution_count": 5,
      "metadata": {
        "id": "rN5Tritj7ask"
      },
      "outputs": [],
      "source": [
        "df.drop('PRT_ID',axis=1,inplace=True)"
      ]
    },
    {
      "cell_type": "code",
      "execution_count": 6,
      "metadata": {
        "colab": {
          "base_uri": "https://localhost:8080/"
        },
        "id": "aZE9MmgO8TgB",
        "outputId": "fa16a2cb-1063-421b-a40e-8ca20654b0d0"
      },
      "outputs": [
        {
          "output_type": "execute_result",
          "data": {
            "text/plain": [
              "rl    1858\n",
              "rh    1822\n",
              "rm    1817\n",
              "c      550\n",
              "a      537\n",
              "i      525\n",
              "Name: MZZONE, dtype: int64"
            ]
          },
          "metadata": {},
          "execution_count": 6
        }
      ],
      "source": [
        "df['MZZONE'] = df['MZZONE'].str.lower()\n",
        "df.MZZONE.value_counts()"
      ]
    },
    {
      "cell_type": "code",
      "execution_count": 7,
      "metadata": {
        "colab": {
          "base_uri": "https://localhost:8080/"
        },
        "id": "cGYAQ9S2AnMG",
        "outputId": "06674968-e1f7-47a5-db26-ea94e7d1d0de"
      },
      "outputs": [
        {
          "output_type": "execute_result",
          "data": {
            "text/plain": [
              "chromepet     1702\n",
              "karapakkam    1366\n",
              "kk nagar       997\n",
              "velachery      981\n",
              "anna nagar     788\n",
              "adyar          774\n",
              "t nagar        501\n",
              "Name: AREA, dtype: int64"
            ]
          },
          "metadata": {},
          "execution_count": 7
        }
      ],
      "source": [
        "df['AREA'] = df['AREA'].str.lower()\n",
        "df['AREA'] = df['AREA'].str.replace('chrompet','chromepet')\n",
        "df['AREA'] = df['AREA'].str.replace('chrompt','chromepet')\n",
        "df['AREA'] = df['AREA'].str.replace('chrmpet','chromepet')\n",
        "df['AREA'] = df['AREA'].str.replace('chormpet','chromepet')\n",
        "df['AREA'] = df['AREA'].str.replace('chormpet','chromepet')\n",
        "\n",
        "df['AREA'] = df['AREA'].str.replace('ann nagar','anna nagar')\n",
        "df['AREA'] = df['AREA'].str.replace('ana nagar','anna nagar')\n",
        "\n",
        "df['AREA'] = df['AREA'].str.replace('tnagar','t nagar')\n",
        "df['AREA'] = df['AREA'].str.replace('kknagar','kk nagar')\n",
        "df['AREA'] = df['AREA'].str.replace('karapakam','karapakkam')\n",
        "df['AREA'] = df['AREA'].str.replace('adyr','adyar')\n",
        "df['AREA'] = df['AREA'].str.replace('velchery','velachery')\n",
        "df.AREA.value_counts()"
      ]
    },
    {
      "cell_type": "code",
      "execution_count": 8,
      "metadata": {
        "colab": {
          "base_uri": "https://localhost:8080/"
        },
        "id": "M6UIbgJbAEN_",
        "outputId": "de8c7d9f-74a6-4391-aa0d-4b18366d6f51"
      },
      "outputs": [
        {
          "output_type": "execute_result",
          "data": {
            "text/plain": [
              "1    3587\n",
              "0    3522\n",
              "Name: PARK_FACIL, dtype: int64"
            ]
          },
          "metadata": {},
          "execution_count": 8
        }
      ],
      "source": [
        "df['PARK_FACIL'] = df['PARK_FACIL'].str.lower()\n",
        "df['PARK_FACIL'] = df['PARK_FACIL'].str.replace('noo','no')\n",
        "df['PARK_FACIL'] = df['PARK_FACIL'].map({'yes':1,'no':0})\n",
        "df.PARK_FACIL.value_counts()"
      ]
    },
    {
      "cell_type": "code",
      "execution_count": 9,
      "metadata": {
        "colab": {
          "base_uri": "https://localhost:8080/"
        },
        "id": "J7jcOU7sAnXA",
        "outputId": "2b466016-9547-454f-ddcf-d617eee1227a"
      },
      "outputs": [
        {
          "output_type": "execute_result",
          "data": {
            "text/plain": [
              "adjland        1439\n",
              "partial        1433\n",
              "normal sale    1423\n",
              "abnormal       1411\n",
              "family         1403\n",
              "Name: SALE_COND, dtype: int64"
            ]
          },
          "metadata": {},
          "execution_count": 9
        }
      ],
      "source": [
        "df['SALE_COND'] = df['SALE_COND'].str.lower()\n",
        "df['SALE_COND'] = df['SALE_COND'].str.replace('partiall','partial')\n",
        "df['SALE_COND'] = df['SALE_COND'].str.replace('ab normal','abnormal')\n",
        "df['SALE_COND'] = df['SALE_COND'].str.replace('adj land','adjland')\n",
        "df.SALE_COND.value_counts()"
      ]
    },
    {
      "cell_type": "code",
      "execution_count": 10,
      "metadata": {
        "colab": {
          "base_uri": "https://localhost:8080/"
        },
        "id": "i4br6lbj_NSb",
        "outputId": "a180573b-a67a-461a-8506-3fe7dca75aca"
      },
      "outputs": [
        {
          "output_type": "execute_result",
          "data": {
            "text/plain": [
              "paved        2572\n",
              "gravel       2520\n",
              "no access    2017\n",
              "Name: STREET, dtype: int64"
            ]
          },
          "metadata": {},
          "execution_count": 10
        }
      ],
      "source": [
        "df['STREET'] = df['STREET'].str.lower()\n",
        "df['STREET'] = df['STREET'].str.replace('pavd','paved')\n",
        "df['STREET'] = df['STREET'].str.replace('noaccess','no access')\n",
        "df.STREET.value_counts()"
      ]
    },
    {
      "cell_type": "code",
      "execution_count": 11,
      "metadata": {
        "colab": {
          "base_uri": "https://localhost:8080/"
        },
        "id": "u-PA91rNBIIQ",
        "outputId": "65fa4b4e-dc00-4435-c839-bd9cb07d9bcd"
      },
      "outputs": [
        {
          "output_type": "execute_result",
          "data": {
            "text/plain": [
              "allpub      1887\n",
              "nosewer     1871\n",
              "nosewer     1829\n",
              "elo         1522\n",
              "Name: UTILITY_AVAIL, dtype: int64"
            ]
          },
          "metadata": {},
          "execution_count": 11
        }
      ],
      "source": [
        "df['UTILITY_AVAIL'] = df['UTILITY_AVAIL'].str.lower()\n",
        "df['UTILITY_AVAIL'] = df['UTILITY_AVAIL'].str.replace('all pub','allpub')\n",
        "df['UTILITY_AVAIL'] = df['UTILITY_AVAIL'].str.replace('nosewr','nosewer')\n",
        "df['UTILITY_AVAIL'] = df['UTILITY_AVAIL'].str.replace('nosewa','nosewer')\n",
        "# df['UTILITY_AVAIL'] = df['UTILITY_AVAIL'].str.replace('nosewer','nosewer')\n",
        "df.UTILITY_AVAIL.value_counts()"
      ]
    },
    {
      "cell_type": "code",
      "execution_count": 12,
      "metadata": {
        "colab": {
          "base_uri": "https://localhost:8080/"
        },
        "id": "_b7iik-mTcF5",
        "outputId": "7c18c515-8d53-4d3f-cb4c-199a3071b880"
      },
      "outputs": [
        {
          "output_type": "execute_result",
          "data": {
            "text/plain": [
              "house         2444\n",
              "others        2336\n",
              "commercial    2329\n",
              "Name: BUILDTYPE, dtype: int64"
            ]
          },
          "metadata": {},
          "execution_count": 12
        }
      ],
      "source": [
        "df['BUILDTYPE'] = df['BUILDTYPE'].str.lower()\n",
        "df['BUILDTYPE'] = df['BUILDTYPE'].str.replace('other','others')\n",
        "df['BUILDTYPE'] = df['BUILDTYPE'].str.replace('otherss','others')\n",
        "df['BUILDTYPE'] = df['BUILDTYPE'].str.replace('comercial','commercial')\n",
        "df.BUILDTYPE.value_counts()"
      ]
    },
    {
      "cell_type": "markdown",
      "metadata": {
        "id": "0UNZhh-TQ63D"
      },
      "source": [
        "##EDA"
      ]
    },
    {
      "cell_type": "code",
      "execution_count": 13,
      "metadata": {
        "id": "rJvyGxsyRw6k",
        "colab": {
          "base_uri": "https://localhost:8080/",
          "height": 0
        },
        "outputId": "157cf6c0-fd70-4377-b077-bb2e5e7ce767"
      },
      "outputs": [
        {
          "output_type": "display_data",
          "data": {
            "text/plain": [
              "<Figure size 2880x2880 with 2 Axes>"
            ],
            "image/png": "[encoded data removed]"
          },
          "metadata": {
            "needs_background": "light"
          }
        }
      ],
      "source": [
        "corr = df.corr()\n",
        "fig, ax = plt.subplots(figsize=(40, 40))\n",
        "sns.heatmap(corr, cmap='RdBu', annot=True, fmt=\".2f\")\n",
        "plt.xticks(range(len(corr.columns)), corr.columns);\n",
        "plt.yticks(range(len(corr.columns)), corr.columns)\n",
        "plt.show()"
      ]
    },
    {
      "cell_type": "code",
      "execution_count": 14,
      "metadata": {
        "colab": {
          "base_uri": "https://localhost:8080/",
          "height": 0
        },
        "id": "jTtaGSOALxic",
        "outputId": "8fccc750-c8d0-41ee-f36e-6facbb77328d"
      },
      "outputs": [
        {
          "output_type": "execute_result",
          "data": {
            "text/plain": [
              "<matplotlib.axes._subplots.AxesSubplot at 0x7fafd39d1150>"
            ]
          },
          "metadata": {},
          "execution_count": 14
        },
        {
          "output_type": "display_data",
          "data": {
            "text/plain": [
              "<Figure size 432x288 with 1 Axes>"
            ],
            "image/png": "[encoded data removed]"
          },
          "metadata": {
            "needs_background": "light"
          }
        }
      ],
      "source": [
        "sns.boxplot(x=df.N_BEDROOM)"
      ]
    },
    {
      "cell_type": "code",
      "execution_count": 15,
      "metadata": {
        "colab": {
          "base_uri": "https://localhost:8080/",
          "height": 0
        },
        "id": "uHWyzmKvL9FN",
        "outputId": "e27a4162-2414-4709-8e29-21b1d479d0f2"
      },
      "outputs": [
        {
          "output_type": "execute_result",
          "data": {
            "text/plain": [
              "<matplotlib.axes._subplots.AxesSubplot at 0x7fafd2155210>"
            ]
          },
          "metadata": {},
          "execution_count": 15
        },
        {
          "output_type": "display_data",
          "data": {
            "text/plain": [
              "<Figure size 432x288 with 1 Axes>"
            ],
            "image/png": "[encoded data removed]"
          },
          "metadata": {
            "needs_background": "light"
          }
        }
      ],
      "source": [
        "sns.boxplot(x=df.N_ROOM)"
      ]
    },
    {
      "cell_type": "code",
      "execution_count": 16,
      "metadata": {
        "colab": {
          "base_uri": "https://localhost:8080/",
          "height": 0
        },
        "id": "2LKn8U-xMKbD",
        "outputId": "b8da657c-9d06-427d-e29b-70a9613ba87b"
      },
      "outputs": [
        {
          "output_type": "execute_result",
          "data": {
            "text/plain": [
              "<matplotlib.axes._subplots.AxesSubplot at 0x7fafd2148810>"
            ]
          },
          "metadata": {},
          "execution_count": 16
        },
        {
          "output_type": "display_data",
          "data": {
            "text/plain": [
              "<Figure size 432x288 with 1 Axes>"
            ],
            "image/png": "[encoded data removed]"
          },
          "metadata": {
            "needs_background": "light"
          }
        }
      ],
      "source": [
        "sns.boxplot(x=df.SALES_PRICE)"
      ]
    },
    {
      "cell_type": "code",
      "execution_count": 17,
      "metadata": {
        "colab": {
          "base_uri": "https://localhost:8080/",
          "height": 0
        },
        "id": "BS0qUyPcSwc0",
        "outputId": "4c6d7068-73c6-4e48-fb8f-d86c4c193097"
      },
      "outputs": [
        {
          "output_type": "execute_result",
          "data": {
            "text/plain": [
              "<matplotlib.axes._subplots.AxesSubplot at 0x7fafd20ae990>"
            ]
          },
          "metadata": {},
          "execution_count": 17
        },
        {
          "output_type": "display_data",
          "data": {
            "text/plain": [
              "<Figure size 432x288 with 1 Axes>"
            ],
            "image/png": "[encoded data removed]"
          },
          "metadata": {
            "needs_background": "light"
          }
        }
      ],
      "source": [
        "sns.boxplot(x=df.INT_SQFT)"
      ]
    },
    {
      "cell_type": "code",
      "execution_count": 18,
      "metadata": {
        "colab": {
          "base_uri": "https://localhost:8080/",
          "height": 0
        },
        "id": "UowAiCfoS8L9",
        "outputId": "51709e8d-40ee-44bd-f312-14ed6f0e3212"
      },
      "outputs": [
        {
          "output_type": "execute_result",
          "data": {
            "text/plain": [
              "<matplotlib.axes._subplots.AxesSubplot at 0x7fafd2020d90>"
            ]
          },
          "metadata": {},
          "execution_count": 18
        },
        {
          "output_type": "display_data",
          "data": {
            "text/plain": [
              "<Figure size 432x288 with 1 Axes>"
            ],
            "image/png": "[encoded data removed]"
          },
          "metadata": {
            "needs_background": "light"
          }
        }
      ],
      "source": [
        "sns.boxplot(x=df.DIST_MAINROAD)"
      ]
    },
    {
      "cell_type": "code",
      "execution_count": 19,
      "metadata": {
        "colab": {
          "base_uri": "https://localhost:8080/",
          "height": 0
        },
        "id": "wnSeNxJOUFab",
        "outputId": "da31fc61-98fa-4ab4-f96a-084e093ea91c"
      },
      "outputs": [
        {
          "output_type": "execute_result",
          "data": {
            "text/plain": [
              "<matplotlib.axes._subplots.AxesSubplot at 0x7fafd1f99790>"
            ]
          },
          "metadata": {},
          "execution_count": 19
        },
        {
          "output_type": "display_data",
          "data": {
            "text/plain": [
              "<Figure size 432x288 with 1 Axes>"
            ],
            "image/png": "[encoded data removed]"
          },
          "metadata": {
            "needs_background": "light"
          }
        }
      ],
      "source": [
        "sns.boxplot(x=df.AGE)"
      ]
    },
    {
      "cell_type": "code",
      "source": [
        "dff=df.groupby('AREA')['SALES_PRICE'].mean().reset_index().sort_values('SALES_PRICE')['AREA']\n",
        "sns.barplot(y=df.AREA,x=df.SALES_PRICE,order=dff)"
      ],
      "metadata": {
        "colab": {
          "base_uri": "https://localhost:8080/",
          "height": 0
        },
        "id": "X7wLjBnYQ13Q",
        "outputId": "0a78135a-3c97-45bb-e03a-440d22a209ef"
      },
      "execution_count": 20,
      "outputs": [
        {
          "output_type": "execute_result",
          "data": {
            "text/plain": [
              "<matplotlib.axes._subplots.AxesSubplot at 0x7fafd6b61650>"
            ]
          },
          "metadata": {},
          "execution_count": 20
        },
        {
          "output_type": "display_data",
          "data": {
            "text/plain": [
              "<Figure size 432x288 with 1 Axes>"
            ],
            "image/png": "[encoded data removed]"
          },
          "metadata": {
            "needs_background": "light"
          }
        }
      ]
    },
    {
      "cell_type": "code",
      "source": [
        "dff = pd.DataFrame()\n",
        "dff=df.groupby('SALE_COND')['SALES_PRICE'].mean().reset_index().sort_values('SALES_PRICE')['SALE_COND']\n",
        "sns.barplot(y=df.SALE_COND,x=df.SALES_PRICE,order=dff)"
      ],
      "metadata": {
        "colab": {
          "base_uri": "https://localhost:8080/",
          "height": 0
        },
        "id": "Qr1SB4cQTkcX",
        "outputId": "e12abff4-422a-4333-99ab-808a2dc7b5be"
      },
      "execution_count": 21,
      "outputs": [
        {
          "output_type": "execute_result",
          "data": {
            "text/plain": [
              "<matplotlib.axes._subplots.AxesSubplot at 0x7fafd1ef6c50>"
            ]
          },
          "metadata": {},
          "execution_count": 21
        },
        {
          "output_type": "display_data",
          "data": {
            "text/plain": [
              "<Figure size 432x288 with 1 Axes>"
            ],
            "image/png": "[encoded data removed]"
          },
          "metadata": {
            "needs_background": "light"
          }
        }
      ]
    },
    {
      "cell_type": "code",
      "source": [
        "sns.boxplot(df.PARK_FACIL, df.SALES_PRICE)"
      ],
      "metadata": {
        "id": "_7u64JFmT6oJ",
        "colab": {
          "base_uri": "https://localhost:8080/",
          "height": 0
        },
        "outputId": "ed096559-81dd-41ff-de24-e6c510d70d27"
      },
      "execution_count": 22,
      "outputs": [
        {
          "output_type": "execute_result",
          "data": {
            "text/plain": [
              "<matplotlib.axes._subplots.AxesSubplot at 0x7fafd20a62d0>"
            ]
          },
          "metadata": {},
          "execution_count": 22
        },
        {
          "output_type": "display_data",
          "data": {
            "text/plain": [
              "<Figure size 432x288 with 1 Axes>"
            ],
            "image/png": "[encoded data removed]"
          },
          "metadata": {
            "needs_background": "light"
          }
        }
      ]
    },
    {
      "cell_type": "code",
      "source": [
        "dff = pd.DataFrame()\n",
        "dff=df.groupby('SALE_COND')['SALES_PRICE'].mean().reset_index().sort_values('SALES_PRICE')['SALE_COND']\n",
        "sns.barplot(y=df.SALE_COND,x=df.SALES_PRICE,order=dff)"
      ],
      "metadata": {
        "colab": {
          "base_uri": "https://localhost:8080/",
          "height": 0
        },
        "id": "2o5sg8hT9SAC",
        "outputId": "15168d48-d463-491d-c17e-f40f4bb53497"
      },
      "execution_count": 23,
      "outputs": [
        {
          "output_type": "execute_result",
          "data": {
            "text/plain": [
              "<matplotlib.axes._subplots.AxesSubplot at 0x7fafd1dfdbd0>"
            ]
          },
          "metadata": {},
          "execution_count": 23
        },
        {
          "output_type": "display_data",
          "data": {
            "text/plain": [
              "<Figure size 432x288 with 1 Axes>"
            ],
            "image/png": "[encoded data removed]"
          },
          "metadata": {
            "needs_background": "light"
          }
        }
      ]
    },
    {
      "cell_type": "code",
      "source": [
        "dff = pd.DataFrame()\n",
        "dff=df.groupby('AREA')['SALES_PRICE'].mean().reset_index().sort_values('SALES_PRICE')['AREA']\n",
        "sns.barplot(x=df.AREA,y=df.SALES_PRICE,order=dff)"
      ],
      "metadata": {
        "colab": {
          "base_uri": "https://localhost:8080/",
          "height": 0
        },
        "id": "qga-O9j1EhGZ",
        "outputId": "137831ed-c96a-47f5-948a-e132cec63fef"
      },
      "execution_count": 24,
      "outputs": [
        {
          "output_type": "execute_result",
          "data": {
            "text/plain": [
              "<matplotlib.axes._subplots.AxesSubplot at 0x7fafd1d00d50>"
            ]
          },
          "metadata": {},
          "execution_count": 24
        },
        {
          "output_type": "display_data",
          "data": {
            "text/plain": [
              "<Figure size 432x288 with 1 Axes>"
            ],
            "image/png": "[encoded data removed]"
          },
          "metadata": {
            "needs_background": "light"
          }
        }
      ]
    },
    {
      "cell_type": "code",
      "source": [
        "dff = pd.DataFrame()\n",
        "dff=df.groupby('MZZONE')['SALES_PRICE'].mean().reset_index().sort_values('SALES_PRICE')['MZZONE']\n",
        "sns.barplot(x=df.MZZONE,y=df.SALES_PRICE,order=dff)"
      ],
      "metadata": {
        "colab": {
          "base_uri": "https://localhost:8080/",
          "height": 0
        },
        "id": "AOCmh1qw89hL",
        "outputId": "9481b15b-25c4-48b6-8fb6-f7e49d9cfde0"
      },
      "execution_count": 25,
      "outputs": [
        {
          "output_type": "execute_result",
          "data": {
            "text/plain": [
              "<matplotlib.axes._subplots.AxesSubplot at 0x7fafd1e36810>"
            ]
          },
          "metadata": {},
          "execution_count": 25
        },
        {
          "output_type": "display_data",
          "data": {
            "text/plain": [
              "<Figure size 432x288 with 1 Axes>"
            ],
            "image/png": "[encoded data removed]"
          },
          "metadata": {
            "needs_background": "light"
          }
        }
      ]
    },
    {
      "cell_type": "code",
      "source": [
        "dff = pd.DataFrame()\n",
        "dff=df.groupby('STREET')['SALES_PRICE'].mean().reset_index().sort_values('SALES_PRICE')['STREET']\n",
        "sns.barplot(x=df.STREET,y=df.SALES_PRICE,order=dff)"
      ],
      "metadata": {
        "colab": {
          "base_uri": "https://localhost:8080/",
          "height": 0
        },
        "id": "OaMB7C098q0P",
        "outputId": "d8b73403-d14f-432d-c05e-20f190ed1bd1"
      },
      "execution_count": 26,
      "outputs": [
        {
          "output_type": "execute_result",
          "data": {
            "text/plain": [
              "<matplotlib.axes._subplots.AxesSubplot at 0x7fafd1dfd250>"
            ]
          },
          "metadata": {},
          "execution_count": 26
        },
        {
          "output_type": "display_data",
          "data": {
            "text/plain": [
              "<Figure size 432x288 with 1 Axes>"
            ],
            "image/png": "[encoded data removed]"
          },
          "metadata": {
            "needs_background": "light"
          }
        }
      ]
    },
    {
      "cell_type": "code",
      "source": [
        "dff = pd.DataFrame()\n",
        "dff=df.groupby('UTILITY_AVAIL')['SALES_PRICE'].mean().reset_index().sort_values('SALES_PRICE')['UTILITY_AVAIL']\n",
        "sns.barplot(y=df.UTILITY_AVAIL,x=df.SALES_PRICE,order=dff)"
      ],
      "metadata": {
        "colab": {
          "base_uri": "https://localhost:8080/",
          "height": 0
        },
        "id": "jXX8TAi14wAI",
        "outputId": "dc5fb64d-fbc5-46fe-93de-85433a774e77"
      },
      "execution_count": 27,
      "outputs": [
        {
          "output_type": "execute_result",
          "data": {
            "text/plain": [
              "<matplotlib.axes._subplots.AxesSubplot at 0x7fafd1bb4310>"
            ]
          },
          "metadata": {},
          "execution_count": 27
        },
        {
          "output_type": "display_data",
          "data": {
            "text/plain": [
              "<Figure size 432x288 with 1 Axes>"
            ],
            "image/png": "[encoded data removed]"
          },
          "metadata": {
            "needs_background": "light"
          }
        }
      ]
    },
    {
      "cell_type": "code",
      "source": [
        "sns.barplot(y=df.SALES_PRICE, x= df.BUILDTYPE)"
      ],
      "metadata": {
        "colab": {
          "base_uri": "https://localhost:8080/",
          "height": 0
        },
        "id": "-4-PdGaD3Wi4",
        "outputId": "f81b07b3-de60-439a-fb6f-b2a308c76c11"
      },
      "execution_count": 28,
      "outputs": [
        {
          "output_type": "execute_result",
          "data": {
            "text/plain": [
              "<matplotlib.axes._subplots.AxesSubplot at 0x7fafd1b22a50>"
            ]
          },
          "metadata": {},
          "execution_count": 28
        },
        {
          "output_type": "display_data",
          "data": {
            "text/plain": [
              "<Figure size 432x288 with 1 Axes>"
            ],
            "image/png": "[encoded data removed]"
          },
          "metadata": {
            "needs_background": "light"
          }
        }
      ]
    },
    {
      "cell_type": "markdown",
      "source": [
        "##ENCODING"
      ],
      "metadata": {
        "id": "rv1ZO_5QnkHT"
      }
    },
    {
      "cell_type": "code",
      "source": [
        "#OBJECT TYPES\n",
        "\n",
        "# oh = pd.get_dummies(df[['SALE_COND']],prefix='oh')  #label\n",
        "# oh = pd.get_dummies(df[['PARK_FACIL']],prefix='oh') #label\n",
        "oh1 = pd.get_dummies(df[['AREA']],prefix='oh')      \n",
        "oh2 = pd.get_dummies(df[['BUILDTYPE']],prefix='oh')     \n",
        "oh3 = pd.get_dummies(df[['UTILITY_AVAIL']],prefix='oh') \n",
        "oh4 = pd.get_dummies(df[['STREET']],prefix='oh')    \n",
        "oh5 = pd.get_dummies(df[['MZZONE']],prefix='oh')    \n",
        "\n",
        "# INTEGER TYPES\n",
        "int1 = pd.get_dummies(df[['N_BEDROOM']],prefix='oh')\n",
        "int2 = pd.get_dummies(df[['N_BATHROOM']],prefix='oh')\n",
        "int3 = pd.get_dummies(df[['N_ROOM']],prefix='oh')\n",
        "\n",
        "#EXPERIMENTAL\n",
        "exp1 = pd.get_dummies(df[['QS_ROOMS']],prefix='oh')\n",
        "exp2 = pd.get_dummies(df[['QS_BATHROOM']],prefix='oh')\n",
        "exp3 = pd.get_dummies(df[['QS_BEDROOM']],prefix='oh')\n",
        "\n",
        "df['SALE_COND_label'] = df.SALE_COND.map({'partial':0, 'family':1, 'abnormal':2, 'normal sale':3,'adjland':4})"
      ],
      "metadata": {
        "id": "aglhl5ImQGVx"
      },
      "execution_count": 29,
      "outputs": []
    },
    {
      "cell_type": "code",
      "source": [
        "#Creating seperate DataFrame for model prediction\n",
        "model_df = pd.DataFrame()\n",
        "model_df = df[['INT_SQFT', 'DIST_MAINROAD', 'SALE_COND_label', 'PARK_FACIL','AGE']].copy()\n",
        "model_df = pd.concat([model_df,oh1,oh2,oh3,oh4,oh5,int1,int2,int3,exp1,exp2,exp3],axis=1)\n",
        "model_df['SALES_PRICE'] = df['SALES_PRICE'].copy()"
      ],
      "metadata": {
        "id": "gY3LLHXoPpYK"
      },
      "execution_count": 30,
      "outputs": []
    },
    {
      "cell_type": "code",
      "source": [
        "model_df.isnull().sum()"
      ],
      "metadata": {
        "colab": {
          "base_uri": "https://localhost:8080/"
        },
        "id": "yMou3cSqpzc5",
        "outputId": "ba8dd7f2-5ce4-461c-de6c-d3476b24286c"
      },
      "execution_count": 31,
      "outputs": [
        {
          "output_type": "execute_result",
          "data": {
            "text/plain": [
              "INT_SQFT           0\n",
              "DIST_MAINROAD      0\n",
              "SALE_COND_label    0\n",
              "PARK_FACIL         0\n",
              "AGE                0\n",
              "oh_adyar           0\n",
              "oh_anna nagar      0\n",
              "oh_chromepet       0\n",
              "oh_karapakkam      0\n",
              "oh_kk nagar        0\n",
              "oh_t nagar         0\n",
              "oh_velachery       0\n",
              "oh_commercial      0\n",
              "oh_house           0\n",
              "oh_others          0\n",
              "oh_allpub          0\n",
              "oh_elo             0\n",
              "oh_nosewer         0\n",
              "oh_nosewer         0\n",
              "oh_gravel          0\n",
              "oh_no access       0\n",
              "oh_paved           0\n",
              "oh_a               0\n",
              "oh_c               0\n",
              "oh_i               0\n",
              "oh_rh              0\n",
              "oh_rl              0\n",
              "oh_rm              0\n",
              "N_BEDROOM          1\n",
              "N_BATHROOM         5\n",
              "N_ROOM             0\n",
              "QS_ROOMS           0\n",
              "QS_BATHROOM        0\n",
              "QS_BEDROOM         0\n",
              "SALES_PRICE        0\n",
              "dtype: int64"
            ]
          },
          "metadata": {},
          "execution_count": 31
        }
      ]
    },
    {
      "cell_type": "code",
      "source": [
        "#Imputing leftover null values with mode\n",
        "model_df.N_BEDROOM = model_df.N_BEDROOM.fillna(model_df.N_BEDROOM.mode()[0])\n",
        "model_df.N_BATHROOM = model_df.N_BATHROOM.fillna(model_df.N_BATHROOM.mode()[0])"
      ],
      "metadata": {
        "id": "pwoGThMIzw_D"
      },
      "execution_count": 32,
      "outputs": []
    },
    {
      "cell_type": "markdown",
      "metadata": {
        "id": "4yJH89Kht8di"
      },
      "source": [
        "##SPLITTING"
      ]
    },
    {
      "cell_type": "code",
      "execution_count": 33,
      "metadata": {
        "id": "wWu1v2TyLc9P"
      },
      "outputs": [],
      "source": [
        "X = model_df[['INT_SQFT', 'DIST_MAINROAD', 'SALE_COND_label', 'PARK_FACIL', 'AGE',\n",
        "       'oh_adyar', 'oh_anna nagar', 'oh_chromepet', 'oh_karapakkam',\n",
        "       'oh_kk nagar', 'oh_t nagar', 'oh_velachery', 'oh_commercial',\n",
        "       'oh_house', 'oh_others', 'oh_allpub', 'oh_elo', 'oh_nosewer',\n",
        "       'oh_nosewer ', 'oh_gravel', 'oh_no access', 'oh_paved', 'oh_a', 'oh_c',\n",
        "       'oh_i', 'oh_rh', 'oh_rl', 'oh_rm', 'N_BEDROOM', 'N_BATHROOM', 'N_ROOM',\n",
        "       'QS_ROOMS', 'QS_BATHROOM', 'QS_BEDROOM']].values\n",
        "y = model_df['SALES_PRICE'].values"
      ]
    },
    {
      "cell_type": "code",
      "execution_count": 34,
      "metadata": {
        "id": "_ogQJsDbUilw"
      },
      "outputs": [],
      "source": [
        "from sklearn.model_selection import train_test_split\n",
        "X_train, X_test, y_train, y_test = train_test_split(X, y, test_size=0.2, random_state=2)"
      ]
    },
    {
      "cell_type": "markdown",
      "metadata": {
        "id": "02hSMD39uDE9"
      },
      "source": [
        "##SCALING"
      ]
    },
    {
      "cell_type": "code",
      "execution_count": 35,
      "metadata": {
        "id": "TGen8tT0XvZc"
      },
      "outputs": [],
      "source": [
        "from sklearn.preprocessing import StandardScaler\n",
        "scaler = StandardScaler()\n",
        "X_train = scaler.fit_transform(X_train)\n",
        "X_test = scaler.transform(X_test)"
      ]
    },
    {
      "cell_type": "markdown",
      "source": [
        "As we have Completed Data Cleaning, Pre-Processing and EDA, we are good to proceed for our TASK i.e, Supervised Learning."
      ],
      "metadata": {
        "id": "CBD56RFDqgR6"
      }
    },
    {
      "cell_type": "markdown",
      "source": [
        "#Prediction Models"
      ],
      "metadata": {
        "id": "gQyWWQZKn0m_"
      }
    },
    {
      "cell_type": "markdown",
      "source": [
        "From the Problem Statement, we can infer that its a Regression Problem so we will be using bunch of Regression Algorithms and evaluate each of them's performance in the end for best Prediction."
      ],
      "metadata": {
        "id": "hvGaIYEkuYZu"
      }
    },
    {
      "cell_type": "markdown",
      "metadata": {
        "id": "p5-mpcfhcFmh"
      },
      "source": [
        "##Random Forest Regression"
      ]
    },
    {
      "cell_type": "code",
      "execution_count": 36,
      "metadata": {
        "id": "vyLVMrSNTQNy",
        "colab": {
          "base_uri": "https://localhost:8080/"
        },
        "outputId": "f6177806-073d-4c04-b89c-34a162106eca"
      },
      "outputs": [
        {
          "output_type": "stream",
          "name": "stdout",
          "text": [
            "CV:  0.9821594824419799\n",
            "R2_score (train):  0.9977352190791934\n",
            "R2_score (test):  0.9845086063660193\n",
            "MSE:  223857532392.1854\n"
          ]
        }
      ],
      "source": [
        "from sklearn.ensemble import RandomForestRegressor\n",
        "from sklearn.model_selection import cross_val_score\n",
        "from sklearn.metrics import mean_squared_error\n",
        "from sklearn.metrics import r2_score\n",
        "\n",
        "rf_regressor = RandomForestRegressor(n_estimators = 350, random_state = 2)\n",
        "rf_regressor.fit(X_train, y_train)\n",
        "\n",
        "cv_rf = cross_val_score(estimator = rf_regressor, X = X_train, y = y_train, cv = 10)\n",
        "\n",
        "y_pred_rf_train = rf_regressor.predict(X_train)\n",
        "r2_score_rf_train = r2_score(y_train, y_pred_rf_train)\n",
        "\n",
        "y_pred_rf_test = rf_regressor.predict(X_test)\n",
        "r2_score_rf_test = r2_score(y_test, y_pred_rf_test)\n",
        "\n",
        "# Predicting MSE the Test set results\n",
        "mse_rf = mean_squared_error(y_test, y_pred_rf_test)\n",
        "print('CV: ', cv_rf.mean())\n",
        "print('R2_score (train): ', r2_score_rf_train)\n",
        "print('R2_score (test): ', r2_score_rf_test)\n",
        "print(\"MSE: \", mse_rf)"
      ]
    },
    {
      "cell_type": "markdown",
      "metadata": {
        "id": "apbdiT4ccHq5"
      },
      "source": [
        "##Linear Regression"
      ]
    },
    {
      "cell_type": "code",
      "execution_count": 37,
      "metadata": {
        "id": "X1NzzymsTQVL",
        "colab": {
          "base_uri": "https://localhost:8080/"
        },
        "outputId": "6fa46fd8-5e7e-4f19-86f1-21b0b4778c1e"
      },
      "outputs": [
        {
          "output_type": "stream",
          "name": "stdout",
          "text": [
            "CV:  0.9995472202525374\n",
            "R2_score (train): 0.9996171351408124  ------------> 99.96171351408124%\n",
            "R2_score (test) : 0.9995133475743623  ------------> 99.95133475743623%\n",
            "MSE:  7032344133.1293955\n"
          ]
        }
      ],
      "source": [
        "from sklearn.linear_model import LinearRegression\n",
        "from sklearn.preprocessing import StandardScaler\n",
        "from sklearn.pipeline import Pipeline\n",
        "from sklearn.preprocessing import PolynomialFeatures\n",
        "from sklearn.model_selection import cross_val_score\n",
        "from sklearn.metrics import mean_squared_error\n",
        "from sklearn.metrics import r2_score\n",
        "\n",
        "steps = [\n",
        "          ('poly', PolynomialFeatures(degree=2)),\n",
        "          ('model', LinearRegression(fit_intercept=True))\n",
        "        ]\n",
        "\n",
        "lin_regressor = Pipeline(steps)\n",
        "lin_regressor.fit(X_train, y_train)\n",
        "\n",
        "#Applying Cross validation on train data\n",
        "cv_lin_regressor = cross_val_score(estimator = lin_regressor, X = X_train, y = y_train, cv = 10)\n",
        "\n",
        "# Predicting R2 Score the Test set results\n",
        "y_pred_linear_train = lin_regressor.predict(X_train)\n",
        "r2_score_linear_train = r2_score(y_train, y_pred_linear_train)\n",
        "\n",
        "# Predicting R2 Score the Test set results\n",
        "y_pred_linear_test = lin_regressor.predict(X_test)\n",
        "r2_score_linear_test = r2_score(y_test, y_pred_linear_test)\n",
        "\n",
        "# Predicting MSE on the Test set results\n",
        "mse_lin_regressor = mean_squared_error(y_test, y_pred_linear_test)\n",
        "print('CV: ', cv_lin_regressor.mean())\n",
        "print('R2_score (train): {}  ------------> {}%'.format(r2_score_linear_train,r2_score_linear_train*100))\n",
        "print('R2_score (test) : {}  ------------> {}%'.format(r2_score_linear_test,r2_score_linear_test*100))\n",
        "print(\"MSE: \", mse_lin_regressor)"
      ]
    },
    {
      "cell_type": "markdown",
      "metadata": {
        "id": "Flu9kfUBcKjR"
      },
      "source": [
        "##Ridge Regression"
      ]
    },
    {
      "cell_type": "code",
      "execution_count": 38,
      "metadata": {
        "id": "DsjV17LBcEHQ",
        "colab": {
          "base_uri": "https://localhost:8080/"
        },
        "outputId": "164af003-c68e-437b-b549-f0049c386474"
      },
      "outputs": [
        {
          "output_type": "stream",
          "name": "stdout",
          "text": [
            "CV:  0.9995488767390087\n",
            "R2_score (train): 0.9996179284379177  ------------> 99.96179284379177%\n",
            "R2_score (test) : 0.9995131975384198  ------------> 99.95131975384199%\n",
            "MSE:  7034512219.272037\n"
          ]
        }
      ],
      "source": [
        "from sklearn.linear_model import Ridge\n",
        "from sklearn.preprocessing import StandardScaler\n",
        "from sklearn.pipeline import Pipeline\n",
        "from sklearn.preprocessing import PolynomialFeatures\n",
        "from sklearn.model_selection import cross_val_score\n",
        "from sklearn.metrics import mean_squared_error\n",
        "\n",
        "steps = [\n",
        "          ('poly', PolynomialFeatures(degree=2)),\n",
        "          ('modell', Ridge(alpha=.02, fit_intercept=True))\n",
        "        ]\n",
        "\n",
        "ridge_pipe = Pipeline(steps)\n",
        "ridge_pipe.fit(X_train, y_train)\n",
        "\n",
        "#Applying Cross validation on train data\n",
        "cv_ridge = cross_val_score(estimator = ridge_pipe, X = X_train, y = y_train, cv = 10)\n",
        "\n",
        "# Predicting R2 Score the Test set results\n",
        "y_pred_ridge_train = ridge_pipe.predict(X_train)\n",
        "r2_score_ridge_train = r2_score(y_train, y_pred_ridge_train)\n",
        "\n",
        "# Predicting R2 Score the Test set results\n",
        "y_pred_ridge_test = ridge_pipe.predict(X_test)\n",
        "r2_score_ridge_test = r2_score(y_test, y_pred_ridge_test)\n",
        "\n",
        "# Predicting MSE the Test set results\n",
        "mse_ridge = mean_squared_error(y_test, y_pred_ridge_test)\n",
        "print('CV: ', cv_ridge.mean())\n",
        "print('R2_score (train): {}  ------------> {}%'.format(r2_score_ridge_train,r2_score_ridge_train*100))\n",
        "print('R2_score (test) : {}  ------------> {}%'.format(r2_score_ridge_test,r2_score_ridge_test*100))\n",
        "print(\"MSE: \", mse_ridge)"
      ]
    },
    {
      "cell_type": "markdown",
      "metadata": {
        "id": "-3K35n20cPwY"
      },
      "source": [
        "##Lasso Regression"
      ]
    },
    {
      "cell_type": "code",
      "execution_count": 39,
      "metadata": {
        "id": "qDL7-RFacO_r",
        "colab": {
          "base_uri": "https://localhost:8080/"
        },
        "outputId": "4226878f-df03-4854-98b0-94f7ea8e1fd3"
      },
      "outputs": [
        {
          "output_type": "stream",
          "name": "stdout",
          "text": [
            "CV:  0.9995488883302658\n",
            "R2_score (train): 0.9996178551671134  ------------> 99.96178551671134%\n",
            "R2_score (test) : 0.9995130556309725  ------------> 99.95130556309725%\n",
            "MSE:  7036562845.040279\n"
          ]
        }
      ],
      "source": [
        "from sklearn.linear_model import Lasso\n",
        "from sklearn.preprocessing import StandardScaler\n",
        "from sklearn.pipeline import Pipeline\n",
        "from sklearn.preprocessing import PolynomialFeatures\n",
        "from sklearn.metrics import r2_score\n",
        "\n",
        "steps = [\n",
        "          ('poly', PolynomialFeatures(degree=2)),\n",
        "          ('modelll', Lasso(alpha=0.013, fit_intercept=True))\n",
        "        ]\n",
        "\n",
        "lasso_pipe = Pipeline(steps)\n",
        "lasso_pipe.fit(X_train, y_train)\n",
        "\n",
        "# Predicting Cross Validation Score\n",
        "cv_lasso = cross_val_score(estimator = lasso_pipe, X = X_train, y = y_train, cv = 10)\n",
        "\n",
        "# Predicting R2 Score the Test set results\n",
        "y_pred_lasso_train = lasso_pipe.predict(X_train)\n",
        "r2_score_lasso_train = r2_score(y_train, y_pred_lasso_train)\n",
        "\n",
        "# Predicting R2 Score the Test set results\n",
        "y_pred_lasso_test = lasso_pipe.predict(X_test)\n",
        "r2_score_lasso_test = r2_score(y_test, y_pred_lasso_test)\n",
        "\n",
        "# Predicting MSE the Test set results\n",
        "mse_lasso = mean_squared_error(y_test, y_pred_lasso_test)\n",
        "print('CV: ', cv_lasso.mean())\n",
        "print('R2_score (train): {}  ------------> {}%'.format(r2_score_lasso_train,r2_score_lasso_train*100))\n",
        "print('R2_score (test) : {}  ------------> {}%'.format(r2_score_lasso_test,r2_score_lasso_test*100))\n",
        "print(\"MSE: \", mse_lasso)"
      ]
    },
    {
      "cell_type": "markdown",
      "metadata": {
        "id": "FMAM1BETwIJI"
      },
      "source": [
        "##Gradient Boost Regression"
      ]
    },
    {
      "cell_type": "code",
      "execution_count": 40,
      "metadata": {
        "id": "14bY3vYTTQbF",
        "colab": {
          "base_uri": "https://localhost:8080/"
        },
        "outputId": "dbe59a7c-52d4-4b9d-e4b0-c67192fce535"
      },
      "outputs": [
        {
          "output_type": "stream",
          "name": "stdout",
          "text": [
            "CV:  0.9888788835810196\n",
            "R2_score (train):  0.990721073802516\n",
            "R2_score (test):  0.9889639105680433\n",
            "MSE:  159476403858.08774\n"
          ]
        },
        {
          "output_type": "execute_result",
          "data": {
            "text/plain": [
              "0.9889639105680433"
            ]
          },
          "metadata": {},
          "execution_count": 40
        }
      ],
      "source": [
        "from sklearn.ensemble import GradientBoostingRegressor\n",
        "\n",
        "gbr = GradientBoostingRegressor()\n",
        "gbr.fit(X_train, y_train)\n",
        "\n",
        "predicted = gbr.predict(X_test)\n",
        "expected = y_test\n",
        "cv_gbr = cross_val_score(estimator = gbr, X = X_train, y = y_train, cv = 10)\n",
        "y_pred_gbr_train = gbr.predict(X_train)\n",
        "r2_score_gbr_train = r2_score(y_train, y_pred_gbr_train)\n",
        "\n",
        "# Predicting R2 Score the Test set results\n",
        "y_pred_gbr_test = gbr.predict(X_test)\n",
        "r2_score_gbr_test = r2_score(y_test, y_pred_gbr_test)\n",
        "\n",
        "# Predicting MSE the Test set results\n",
        "mse_gbr = mean_squared_error(y_test, y_pred_gbr_test)\n",
        "print('CV: ', cv_gbr.mean())\n",
        "print('R2_score (train): ', r2_score_gbr_train)\n",
        "print('R2_score (test): ', r2_score_gbr_test)\n",
        "print(\"MSE: \", mse_gbr)\n",
        "gbr.score(X_test,y_test)"
      ]
    },
    {
      "cell_type": "markdown",
      "metadata": {
        "id": "Uyu943lgcWu6"
      },
      "source": [
        "##Decision Tree Regression"
      ]
    },
    {
      "cell_type": "code",
      "execution_count": 41,
      "metadata": {
        "id": "SIKFFOB-cWEg",
        "colab": {
          "base_uri": "https://localhost:8080/"
        },
        "outputId": "457846f5-9ff4-4d74-b259-b387c062cb5f"
      },
      "outputs": [
        {
          "output_type": "stream",
          "name": "stdout",
          "text": [
            "CV:  0.843566658881783\n",
            "R2_score (train):  0.8484226553648417\n",
            "R2_score (test):  0.8515606117385022\n",
            "MSE:  2145015222719.2441\n"
          ]
        }
      ],
      "source": [
        "from sklearn.tree import DecisionTreeRegressor\n",
        "from sklearn.metrics import r2_score\n",
        "regressor_dt = DecisionTreeRegressor(max_depth=4, random_state = 0)\n",
        "regressor_dt.fit(X_train, y_train)\n",
        "\n",
        "\n",
        "# Predicting Cross Validation Score\n",
        "cv_dt = cross_val_score(estimator = regressor_dt, X = X_train, y = y_train, cv = 10)\n",
        "\n",
        "# Predicting R2 Score the Train set results\n",
        "y_pred_dt_train = regressor_dt.predict(X_train)\n",
        "r2_score_dt_train = r2_score(y_train, y_pred_dt_train)\n",
        "\n",
        "# Predicting R2 Score the Test set results\n",
        "y_pred_dt_test = regressor_dt.predict(X_test)\n",
        "r2_score_dt_test = r2_score(y_test, y_pred_dt_test)\n",
        "\n",
        "# Predicting MSE the Test set results\n",
        "mse_dt = mean_squared_error(y_test, y_pred_dt_test)\n",
        "print('CV: ', cv_dt.mean())\n",
        "print('R2_score (train): ', r2_score_dt_train)\n",
        "print('R2_score (test): ', r2_score_dt_test)\n",
        "print(\"MSE: \", mse_dt)"
      ]
    },
    {
      "cell_type": "markdown",
      "source": [
        "## XGBOOST Regression"
      ],
      "metadata": {
        "id": "WF_gh7yWufp3"
      }
    },
    {
      "cell_type": "code",
      "execution_count": 42,
      "metadata": {
        "id": "qKU3usJXusKg",
        "colab": {
          "base_uri": "https://localhost:8080/"
        },
        "outputId": "dc63bbeb-546a-453b-9f0c-fda796806842"
      },
      "outputs": [
        {
          "output_type": "stream",
          "name": "stdout",
          "text": [
            "Learning rate :  0.11\n",
            "CV:  0.990394040416637\n",
            "R2_score (train):  0.99247775037419\n",
            "R2_score (test):  0.9907705872836828\n",
            "MSE:  133369121263.03763\n"
          ]
        }
      ],
      "source": [
        "import xgboost as xgb\n",
        "from sklearn.model_selection import cross_val_score\n",
        "import numpy as np\n",
        "\n",
        "xgb_regressor = xgb.XGBRegressor(learning_rate =.11, n_estimators=100, verbosity = 0, random_state=0) # initialise the model\n",
        "xgb_regressor.fit(X_train,y_train) #train the model\n",
        "xgb_regressor.score(X_test, y_test) # scoring the model - r2 squared\n",
        "xgbr_cross_val_score = np.mean(cross_val_score(xgb_regressor, X_train, y_train, cv=10))\n",
        "print(\"Learning rate : \", .11)\n",
        "\n",
        "y_pred_xgbr_train = xgb_regressor.predict(X_train)\n",
        "r2_score_xgbr_train = r2_score(y_train, y_pred_xgbr_train)\n",
        "\n",
        "y_pred_xgbr_test = xgb_regressor.predict(X_test)\n",
        "r2_score_xgbr_test = r2_score(y_test, y_pred_xgbr_test)\n",
        "\n",
        "mse_xgbr = mean_squared_error(y_test, y_pred_xgbr_test)\n",
        "print('CV: ', xgbr_cross_val_score)\n",
        "print('R2_score (train): ', r2_score_xgbr_train)\n",
        "print('R2_score (test): ', r2_score_xgbr_test)\n",
        "print(\"MSE: \", mse_xgbr)"
      ]
    },
    {
      "cell_type": "markdown",
      "source": [
        "#Evaluating Models' Performance"
      ],
      "metadata": {
        "id": "WRf6j4VcBBsV"
      }
    },
    {
      "cell_type": "code",
      "execution_count": 43,
      "metadata": {
        "id": "3As1Woo7ckTz",
        "colab": {
          "base_uri": "https://localhost:8080/",
          "height": 269
        },
        "outputId": "5264a58c-d063-4581-a80d-20c11299fdad"
      },
      "outputs": [
        {
          "output_type": "execute_result",
          "data": {
            "text/plain": [
              "                      Model           MSE  R2_Score(training)  R2_Score(test)  \\\n",
              "0         Linear Regression  7.032344e+09            0.999617        0.999513   \n",
              "1          Ridge Regression  7.034512e+09            0.999618        0.999513   \n",
              "2          Lasso Regression  7.036563e+09            0.999618        0.999513   \n",
              "3  Random Forest Regression  2.238575e+11            0.997735        0.984509   \n",
              "4  Decision Tree Regression  2.145015e+12            0.848423        0.851561   \n",
              "5             GB Regression  1.594764e+11            0.990721        0.988964   \n",
              "6            XGB Regression  1.333691e+11            0.992478        0.990771   \n",
              "\n",
              "   Cross-Validation  \n",
              "0          0.999547  \n",
              "1          0.999549  \n",
              "2          0.999549  \n",
              "3          0.982159  \n",
              "4          0.843567  \n",
              "5          0.988879  \n",
              "6          0.990394  "
            ],
            "text/html": [
              "\n",
              "  <div id=\"df-68ed5c30-2fb8-4a9a-96ad-6d62ba12b907\">\n",
              "    <div class=\"colab-df-container\">\n",
              "      <div>\n",
              "<style scoped>\n",
              "    .dataframe tbody tr th:only-of-type {\n",
              "        vertical-align: middle;\n",
              "    }\n",
              "\n",
              "    .dataframe tbody tr th {\n",
              "        vertical-align: top;\n",
              "    }\n",
              "\n",
              "    .dataframe thead th {\n",
              "        text-align: right;\n",
              "    }\n",
              "</style>\n",
              "<table border=\"1\" class=\"dataframe\">\n",
              "  <thead>\n",
              "    <tr style=\"text-align: right;\">\n",
              "      <th></th>\n",
              "      <th>Model</th>\n",
              "      <th>MSE</th>\n",
              "      <th>R2_Score(training)</th>\n",
              "      <th>R2_Score(test)</th>\n",
              "      <th>Cross-Validation</th>\n",
              "    </tr>\n",
              "  </thead>\n",
              "  <tbody>\n",
              "    <tr>\n",
              "      <th>0</th>\n",
              "      <td>Linear Regression</td>\n",
              "      <td>7.032344e+09</td>\n",
              "      <td>0.999617</td>\n",
              "      <td>0.999513</td>\n",
              "      <td>0.999547</td>\n",
              "    </tr>\n",
              "    <tr>\n",
              "      <th>1</th>\n",
              "      <td>Ridge Regression</td>\n",
              "      <td>7.034512e+09</td>\n",
              "      <td>0.999618</td>\n",
              "      <td>0.999513</td>\n",
              "      <td>0.999549</td>\n",
              "    </tr>\n",
              "    <tr>\n",
              "      <th>2</th>\n",
              "      <td>Lasso Regression</td>\n",
              "      <td>7.036563e+09</td>\n",
              "      <td>0.999618</td>\n",
              "      <td>0.999513</td>\n",
              "      <td>0.999549</td>\n",
              "    </tr>\n",
              "    <tr>\n",
              "      <th>3</th>\n",
              "      <td>Random Forest Regression</td>\n",
              "      <td>2.238575e+11</td>\n",
              "      <td>0.997735</td>\n",
              "      <td>0.984509</td>\n",
              "      <td>0.982159</td>\n",
              "    </tr>\n",
              "    <tr>\n",
              "      <th>4</th>\n",
              "      <td>Decision Tree Regression</td>\n",
              "      <td>2.145015e+12</td>\n",
              "      <td>0.848423</td>\n",
              "      <td>0.851561</td>\n",
              "      <td>0.843567</td>\n",
              "    </tr>\n",
              "    <tr>\n",
              "      <th>5</th>\n",
              "      <td>GB Regression</td>\n",
              "      <td>1.594764e+11</td>\n",
              "      <td>0.990721</td>\n",
              "      <td>0.988964</td>\n",
              "      <td>0.988879</td>\n",
              "    </tr>\n",
              "    <tr>\n",
              "      <th>6</th>\n",
              "      <td>XGB Regression</td>\n",
              "      <td>1.333691e+11</td>\n",
              "      <td>0.992478</td>\n",
              "      <td>0.990771</td>\n",
              "      <td>0.990394</td>\n",
              "    </tr>\n",
              "  </tbody>\n",
              "</table>\n",
              "</div>\n",
              "      <button class=\"colab-df-convert\" onclick=\"convertToInteractive('df-68ed5c30-2fb8-4a9a-96ad-6d62ba12b907')\"\n",
              "              title=\"Convert this dataframe to an interactive table.\"\n",
              "              style=\"display:none;\">\n",
              "        \n",
              "  <svg xmlns=\"http://www.w3.org/2000/svg\" height=\"24px\"viewBox=\"0 0 24 24\"\n",
              "       width=\"24px\">\n",
              "    <path d=\"M0 0h24v24H0V0z\" fill=\"none\"/>\n",
              "    <path d=\"M18.56 5.44l.94 2.06.94-2.06 2.06-.94-2.06-.94-.94-2.06-.94 2.06-2.06.94zm-11 1L8.5 8.5l.94-2.06 2.06-.94-2.06-.94L8.5 2.5l-.94 2.06-2.06.94zm10 10l.94 2.06.94-2.06 2.06-.94-2.06-.94-.94-2.06-.94 2.06-2.06.94z\"/><path d=\"M17.41 7.96l-1.37-1.37c-.4-.4-.92-.59-1.43-.59-.52 0-1.04.2-1.43.59L10.3 9.45l-7.72 7.72c-.78.78-.78 2.05 0 2.83L4 21.41c.39.39.9.59 1.41.59.51 0 1.02-.2 1.41-.59l7.78-7.78 2.81-2.81c.8-.78.8-2.07 0-2.86zM5.41 20L4 18.59l7.72-7.72 1.47 1.35L5.41 20z\"/>\n",
              "  </svg>\n",
              "      </button>\n",
              "      \n",
              "  <style>\n",
              "    .colab-df-container {\n",
              "      display:flex;\n",
              "      flex-wrap:wrap;\n",
              "      gap: 12px;\n",
              "    }\n",
              "\n",
              "    .colab-df-convert {\n",
              "      background-color: #E8F0FE;\n",
              "      border: none;\n",
              "      border-radius: 50%;\n",
              "      cursor: pointer;\n",
              "      display: none;\n",
              "      fill: #1967D2;\n",
              "      height: 32px;\n",
              "      padding: 0 0 0 0;\n",
              "      width: 32px;\n",
              "    }\n",
              "\n",
              "    .colab-df-convert:hover {\n",
              "      background-color: #E2EBFA;\n",
              "      box-shadow: 0px 1px 2px rgba(60, 64, 67, 0.3), 0px 1px 3px 1px rgba(60, 64, 67, 0.15);\n",
              "      fill: #174EA6;\n",
              "    }\n",
              "\n",
              "    [theme=dark] .colab-df-convert {\n",
              "      background-color: #3B4455;\n",
              "      fill: #D2E3FC;\n",
              "    }\n",
              "\n",
              "    [theme=dark] .colab-df-convert:hover {\n",
              "      background-color: #434B5C;\n",
              "      box-shadow: 0px 1px 3px 1px rgba(0, 0, 0, 0.15);\n",
              "      filter: drop-shadow(0px 1px 2px rgba(0, 0, 0, 0.3));\n",
              "      fill: #FFFFFF;\n",
              "    }\n",
              "  </style>\n",
              "\n",
              "      <script>\n",
              "        const buttonEl =\n",
              "          document.querySelector('#df-68ed5c30-2fb8-4a9a-96ad-6d62ba12b907 button.colab-df-convert');\n",
              "        buttonEl.style.display =\n",
              "          google.colab.kernel.accessAllowed ? 'block' : 'none';\n",
              "\n",
              "        async function convertToInteractive(key) {\n",
              "          const element = document.querySelector('#df-68ed5c30-2fb8-4a9a-96ad-6d62ba12b907');\n",
              "          const dataTable =\n",
              "            await google.colab.kernel.invokeFunction('convertToInteractive',\n",
              "                                                     [key], {});\n",
              "          if (!dataTable) return;\n",
              "\n",
              "          const docLinkHtml = 'Like what you see? Visit the ' +\n",
              "            '<a target=\"_blank\" href=https://colab.research.google.com/notebooks/data_table.ipynb>data table notebook</a>'\n",
              "            + ' to learn more about interactive tables.';\n",
              "          element.innerHTML = '';\n",
              "          dataTable['output_type'] = 'display_data';\n",
              "          await google.colab.output.renderOutput(dataTable, element);\n",
              "          const docLink = document.createElement('div');\n",
              "          docLink.innerHTML = docLinkHtml;\n",
              "          element.appendChild(docLink);\n",
              "        }\n",
              "      </script>\n",
              "    </div>\n",
              "  </div>\n",
              "  "
            ]
          },
          "metadata": {},
          "execution_count": 43
        }
      ],
      "source": [
        "models = [('Linear Regression', mse_lin_regressor, r2_score_linear_train, r2_score_linear_test, cv_lin_regressor.mean()),\n",
        "          ('Ridge Regression', mse_ridge, r2_score_ridge_train, r2_score_ridge_test, cv_ridge.mean()),\n",
        "          ('Lasso Regression', mse_lasso, r2_score_lasso_train, r2_score_lasso_test, cv_lasso.mean()),\n",
        "          ('Random Forest Regression', mse_rf, r2_score_rf_train, r2_score_rf_test, cv_rf.mean()),\n",
        "          ('Decision Tree Regression', mse_dt, r2_score_dt_train, r2_score_dt_test, cv_dt.mean()),\n",
        "          ('GB Regression', mse_gbr, r2_score_gbr_train, r2_score_gbr_test, cv_gbr.mean()),\n",
        "          ('XGB Regression', mse_xgbr, r2_score_xgbr_train, r2_score_xgbr_test, xgbr_cross_val_score)   \n",
        "         ]\n",
        "Table = pd.DataFrame(data = models, columns=['Model', 'MSE', 'R2_Score(training)', 'R2_Score(test)', 'Cross-Validation'])\n",
        "Table"
      ]
    },
    {
      "cell_type": "markdown",
      "source": [
        "# FEATURE IMPORTANCE"
      ],
      "metadata": {
        "id": "GNdsmZXKwOUV"
      }
    },
    {
      "cell_type": "code",
      "source": [
        "X = model_df[['INT_SQFT', 'DIST_MAINROAD', 'SALE_COND_label', 'PARK_FACIL', 'AGE',\n",
        "       'oh_adyar', 'oh_anna nagar', 'oh_chromepet', 'oh_karapakkam',\n",
        "       'oh_kk nagar', 'oh_t nagar', 'oh_velachery', 'oh_commercial',\n",
        "       'oh_house', 'oh_others', 'oh_allpub', 'oh_elo', 'oh_nosewer',\n",
        "       'oh_nosewer ', 'oh_gravel', 'oh_no access', 'oh_paved', 'oh_a', 'oh_c',\n",
        "       'oh_i', 'oh_rh', 'oh_rl', 'oh_rm', 'N_BEDROOM', 'N_BATHROOM', 'N_ROOM',\n",
        "       'QS_ROOMS', 'QS_BATHROOM', 'QS_BEDROOM']]\n",
        "y = model_df['SALES_PRICE']"
      ],
      "metadata": {
        "id": "u07xAhnJvl0-"
      },
      "execution_count": 44,
      "outputs": []
    },
    {
      "cell_type": "code",
      "source": [
        "import statsmodels.api as sm\n",
        "YY=sm.add_constant(X)\n",
        "model = sm.OLS(y,X)\n",
        "\n",
        "result = model.fit()\n",
        "print(result.summary())"
      ],
      "metadata": {
        "colab": {
          "base_uri": "https://localhost:8080/"
        },
        "id": "67CuJyj4vIeq",
        "outputId": "e5ea3eeb-43d1-4b0b-bdd0-3253fb0fc64b"
      },
      "execution_count": 45,
      "outputs": [
        {
          "output_type": "stream",
          "name": "stdout",
          "text": [
            "                            OLS Regression Results                            \n",
            "==============================================================================\n",
            "Dep. Variable:            SALES_PRICE   R-squared:                       0.958\n",
            "Model:                            OLS   Adj. R-squared:                  0.958\n",
            "Method:                 Least Squares   F-statistic:                     5540.\n",
            "Date:                Mon, 19 Sep 2022   Prob (F-statistic):               0.00\n",
            "Time:                        03:31:43   Log-Likelihood:            -1.0648e+05\n",
            "No. Observations:                7109   AIC:                         2.130e+05\n",
            "Df Residuals:                    7079   BIC:                         2.132e+05\n",
            "Df Model:                          29                                         \n",
            "Covariance Type:            nonrobust                                         \n",
            "===================================================================================\n",
            "                      coef    std err          t      P>|t|      [0.025      0.975]\n",
            "-----------------------------------------------------------------------------------\n",
            "INT_SQFT         3889.1374     85.843     45.305      0.000    3720.859    4057.416\n",
            "DIST_MAINROAD      37.4637    160.676      0.233      0.816    -277.510     352.437\n",
            "SALE_COND_label  1.442e+05   6492.003     22.216      0.000    1.32e+05    1.57e+05\n",
            "PARK_FACIL       1.024e+06   1.84e+04     55.521      0.000    9.87e+05    1.06e+06\n",
            "AGE               -54.2968      2.159    -25.149      0.000     -58.529     -50.065\n",
            "oh_adyar         9.365e+05   3.51e+04     26.654      0.000    8.68e+05    1.01e+06\n",
            "oh_anna nagar    2.535e+06   4.49e+04     56.514      0.000    2.45e+06    2.62e+06\n",
            "oh_chromepet     4.878e+05   2.64e+04     18.465      0.000    4.36e+05     5.4e+05\n",
            "oh_karapakkam   -1.347e+06   2.93e+04    -46.008      0.000    -1.4e+06   -1.29e+06\n",
            "oh_kk nagar      -1.17e+06    3.9e+04    -29.974      0.000   -1.25e+06   -1.09e+06\n",
            "oh_t nagar         2.7e+06   4.83e+04     55.902      0.000    2.61e+06    2.79e+06\n",
            "oh_velachery    -7.539e+05   3.37e+04    -22.364      0.000    -8.2e+05   -6.88e+05\n",
            "oh_commercial    4.013e+06      3e+04    133.620      0.000    3.95e+06    4.07e+06\n",
            "oh_house         -6.56e+05   2.96e+04    -22.151      0.000   -7.14e+05   -5.98e+05\n",
            "oh_others        3.136e+04   2.99e+04      1.050      0.294   -2.72e+04    8.99e+04\n",
            "oh_allpub        1.028e+06   2.52e+04     40.766      0.000    9.78e+05    1.08e+06\n",
            "oh_elo           7.385e+05   2.66e+04     27.793      0.000    6.86e+05    7.91e+05\n",
            "oh_nosewer       7.608e+05   2.56e+04     29.754      0.000    7.11e+05    8.11e+05\n",
            "oh_nosewer       8.611e+05   2.59e+04     33.256      0.000     8.1e+05    9.12e+05\n",
            "oh_gravel         1.69e+06   2.98e+04     56.695      0.000    1.63e+06    1.75e+06\n",
            "oh_no access     5.241e+05   3.03e+04     17.325      0.000    4.65e+05    5.83e+05\n",
            "oh_paved         1.174e+06   2.99e+04     39.300      0.000    1.12e+06    1.23e+06\n",
            "oh_a            -8.954e+05    3.4e+04    -26.348      0.000   -9.62e+05   -8.29e+05\n",
            "oh_c            -3.277e+05   3.35e+04     -9.795      0.000   -3.93e+05   -2.62e+05\n",
            "oh_i             2.535e+05   3.42e+04      7.413      0.000    1.86e+05    3.21e+05\n",
            "oh_rh            8.374e+05   2.38e+04     35.220      0.000    7.91e+05    8.84e+05\n",
            "oh_rl            1.443e+06   2.39e+04     60.339      0.000     1.4e+06    1.49e+06\n",
            "oh_rm            2.078e+06    2.4e+04     86.743      0.000    2.03e+06    2.12e+06\n",
            "N_BEDROOM        2.208e+05   4.22e+04      5.235      0.000    1.38e+05    3.04e+05\n",
            "N_BATHROOM      -3.853e+05   4.25e+04     -9.076      0.000   -4.69e+05   -3.02e+05\n",
            "N_ROOM           1.901e+05   4.18e+04      4.548      0.000    1.08e+05    2.72e+05\n",
            "QS_ROOMS         1.636e+04   1.03e+04      1.583      0.113   -3893.625    3.66e+04\n",
            "QS_BATHROOM      2.433e+04   1.03e+04      2.368      0.018    4185.512    4.45e+04\n",
            "QS_BEDROOM       3.372e+04   1.04e+04      3.245      0.001    1.34e+04    5.41e+04\n",
            "==============================================================================\n",
            "Omnibus:                      172.998   Durbin-Watson:                   2.001\n",
            "Prob(Omnibus):                  0.000   Jarque-Bera (JB):              235.279\n",
            "Skew:                           0.285   Prob(JB):                     8.12e-52\n",
            "Kurtosis:                       3.685   Cond. No.                     1.19e+16\n",
            "==============================================================================\n",
            "\n",
            "Notes:\n",
            "[1] Standard Errors assume that the covariance matrix of the errors is correctly specified.\n",
            "[2] The smallest eigenvalue is 5.01e-21. This might indicate that there are\n",
            "strong multicollinearity problems or that the design matrix is singular.\n"
          ]
        }
      ]
    },
    {
      "cell_type": "code",
      "source": [
        "from sklearn.feature_selection import RFE\n",
        "estimator = LinearRegression()\n",
        "selector = RFE(estimator, n_features_to_select=3, step=1)\n",
        "selector = selector.fit(X_train, y_train)\n",
        "list(zip(['INT_SQFT', 'DIST_MAINROAD', 'SALE_COND_label', 'PARK_FACIL', 'AGE',\n",
        "       'oh_adyar', 'oh_anna nagar', 'oh_chromepet', 'oh_karapakkam',\n",
        "       'oh_kk nagar', 'oh_t nagar', 'oh_velachery', 'oh_commercial',\n",
        "       'oh_house', 'oh_others', 'oh_allpub', 'oh_elo', 'oh_nosewer',\n",
        "       'oh_nosewer ', 'oh_gravel', 'oh_no access', 'oh_paved', 'oh_a', 'oh_c',\n",
        "       'oh_i', 'oh_rh', 'oh_rl', 'oh_rm', 'N_BEDROOM', 'N_BATHROOM', 'N_ROOM',\n",
        "       'QS_ROOMS', 'QS_BATHROOM', 'QS_BEDROOM', 'SALES_PRICE'],selector.support_))"
      ],
      "metadata": {
        "colab": {
          "base_uri": "https://localhost:8080/"
        },
        "id": "8w953ydSDmQB",
        "outputId": "d3831a57-775e-4211-ac4b-1b1029380727"
      },
      "execution_count": 46,
      "outputs": [
        {
          "output_type": "execute_result",
          "data": {
            "text/plain": [
              "[('INT_SQFT', False),\n",
              " ('DIST_MAINROAD', False),\n",
              " ('SALE_COND_label', False),\n",
              " ('PARK_FACIL', False),\n",
              " ('AGE', False),\n",
              " ('oh_adyar', False),\n",
              " ('oh_anna nagar', False),\n",
              " ('oh_chromepet', False),\n",
              " ('oh_karapakkam', False),\n",
              " ('oh_kk nagar', False),\n",
              " ('oh_t nagar', False),\n",
              " ('oh_velachery', False),\n",
              " ('oh_commercial', True),\n",
              " ('oh_house', True),\n",
              " ('oh_others', True),\n",
              " ('oh_allpub', False),\n",
              " ('oh_elo', False),\n",
              " ('oh_nosewer', False),\n",
              " ('oh_nosewer ', False),\n",
              " ('oh_gravel', False),\n",
              " ('oh_no access', False),\n",
              " ('oh_paved', False),\n",
              " ('oh_a', False),\n",
              " ('oh_c', False),\n",
              " ('oh_i', False),\n",
              " ('oh_rh', False),\n",
              " ('oh_rl', False),\n",
              " ('oh_rm', False),\n",
              " ('N_BEDROOM', False),\n",
              " ('N_BATHROOM', False),\n",
              " ('N_ROOM', False),\n",
              " ('QS_ROOMS', False),\n",
              " ('QS_BATHROOM', False),\n",
              " ('QS_BEDROOM', False)]"
            ]
          },
          "metadata": {},
          "execution_count": 46
        }
      ]
    },
    {
      "cell_type": "code",
      "source": [
        "from sklearn.feature_selection import SequentialFeatureSelector\n",
        "estimator = LinearRegression()\n",
        "sfs = SequentialFeatureSelector(estimator, n_features_to_select=2)\n",
        "sfs.fit(X_train, y_train)\n",
        "print(list(zip(['INT_SQFT', 'DIST_MAINROAD', 'SALE_COND_label', 'PARK_FACIL',\n",
        "       'AGE', 'oh_adyar', 'oh_anna nagar', 'oh_chromepet', 'oh_karapakkam',\n",
        "       'oh_kk nagar', 'oh_t nagar', 'oh_velachery', 'oh_commercial',\n",
        "       'oh_house', 'oh_others', 'oh_allpub', 'oh_elo', 'oh_nosewer',\n",
        "       'oh_nosewer ', 'oh_gravel', 'oh_no access', 'oh_paved', 'oh_a', 'oh_c',\n",
        "       'oh_i', 'oh_rh', 'oh_rl', 'oh_rm', 'N_BEDROOM', 'N_BATHROOM', 'N_ROOM',\n",
        "       'QS_ROOMS', 'QS_BATHROOM', 'QS_BEDROOM', 'SALES_PRICE'],sfs.get_support())))"
      ],
      "metadata": {
        "colab": {
          "base_uri": "https://localhost:8080/"
        },
        "id": "hiNkHapcFd0q",
        "outputId": "2e92174c-0392-4d9d-df68-126bf37e9809"
      },
      "execution_count": 47,
      "outputs": [
        {
          "output_type": "stream",
          "name": "stdout",
          "text": [
            "[('INT_SQFT', True), ('DIST_MAINROAD', False), ('SALE_COND_label', False), ('PARK_FACIL', False), ('AGE', False), ('oh_adyar', False), ('oh_anna nagar', False), ('oh_chromepet', False), ('oh_karapakkam', False), ('oh_kk nagar', False), ('oh_t nagar', False), ('oh_velachery', False), ('oh_commercial', True), ('oh_house', False), ('oh_others', False), ('oh_allpub', False), ('oh_elo', False), ('oh_nosewer', False), ('oh_nosewer ', False), ('oh_gravel', False), ('oh_no access', False), ('oh_paved', False), ('oh_a', False), ('oh_c', False), ('oh_i', False), ('oh_rh', False), ('oh_rl', False), ('oh_rm', False), ('N_BEDROOM', False), ('N_BATHROOM', False), ('N_ROOM', False), ('QS_ROOMS', False), ('QS_BATHROOM', False), ('QS_BEDROOM', False)]\n"
          ]
        }
      ]
    },
    {
      "cell_type": "code",
      "source": [
        "from sklearn.feature_selection import mutual_info_regression\n",
        "mutual_info = mutual_info_regression(X_train,y_train)\n",
        "mutual_info"
      ],
      "metadata": {
        "colab": {
          "base_uri": "https://localhost:8080/"
        },
        "id": "tujevPWpOxxv",
        "outputId": "9ef43429-4c35-4eb7-ba59-68f9ebf235d6"
      },
      "execution_count": 48,
      "outputs": [
        {
          "output_type": "execute_result",
          "data": {
            "text/plain": [
              "array([0.38951998, 0.        , 0.00650617, 0.01186675, 0.02359764,\n",
              "       0.01810285, 0.10068354, 0.06996508, 0.15824532, 0.05942612,\n",
              "       0.06898875, 0.02308017, 0.18419116, 0.08733419, 0.03096751,\n",
              "       0.        , 0.00899739, 0.        , 0.        , 0.01399202,\n",
              "       0.02396466, 0.        , 0.06042552, 0.03262434, 0.01618104,\n",
              "       0.0060316 , 0.00762372, 0.03959061, 0.16750848, 0.03778352,\n",
              "       0.29782086, 0.        , 0.        , 0.        ])"
            ]
          },
          "metadata": {},
          "execution_count": 48
        }
      ]
    },
    {
      "cell_type": "code",
      "source": [
        "new_df = pd.DataFrame()\n",
        "new_df = model_df.copy()\n",
        "new_df.drop('SALES_PRICE',axis=1,inplace=True)"
      ],
      "metadata": {
        "id": "KoBZtAZGxwm5"
      },
      "execution_count": 49,
      "outputs": []
    },
    {
      "cell_type": "code",
      "source": [
        "mutual_info = pd.Series(mutual_info)\n",
        "mutual_info.index = new_df.columns\n",
        "mutual_info.sort_values(ascending=False)"
      ],
      "metadata": {
        "colab": {
          "base_uri": "https://localhost:8080/"
        },
        "id": "MKokVToEPJ8_",
        "outputId": "31324bb7-3e8e-4745-b55d-e304d7b1d110"
      },
      "execution_count": 50,
      "outputs": [
        {
          "output_type": "execute_result",
          "data": {
            "text/plain": [
              "INT_SQFT           0.389520\n",
              "N_ROOM             0.297821\n",
              "oh_commercial      0.184191\n",
              "N_BEDROOM          0.167508\n",
              "oh_karapakkam      0.158245\n",
              "oh_anna nagar      0.100684\n",
              "oh_house           0.087334\n",
              "oh_chromepet       0.069965\n",
              "oh_t nagar         0.068989\n",
              "oh_a               0.060426\n",
              "oh_kk nagar        0.059426\n",
              "oh_rm              0.039591\n",
              "N_BATHROOM         0.037784\n",
              "oh_c               0.032624\n",
              "oh_others          0.030968\n",
              "oh_no access       0.023965\n",
              "AGE                0.023598\n",
              "oh_velachery       0.023080\n",
              "oh_adyar           0.018103\n",
              "oh_i               0.016181\n",
              "oh_gravel          0.013992\n",
              "PARK_FACIL         0.011867\n",
              "oh_elo             0.008997\n",
              "oh_rl              0.007624\n",
              "SALE_COND_label    0.006506\n",
              "oh_rh              0.006032\n",
              "QS_BATHROOM        0.000000\n",
              "QS_ROOMS           0.000000\n",
              "oh_nosewer         0.000000\n",
              "oh_paved           0.000000\n",
              "oh_nosewer         0.000000\n",
              "DIST_MAINROAD      0.000000\n",
              "oh_allpub          0.000000\n",
              "QS_BEDROOM         0.000000\n",
              "dtype: float64"
            ]
          },
          "metadata": {},
          "execution_count": 50
        }
      ]
    }
  ],
  "metadata": {
    "colab": {
      "collapsed_sections": [],
      "provenance": []
    },
    "kernelspec": {
      "display_name": "Python 3",
      "name": "python3"
    },
    "language_info": {
      "name": "python"
    }
  },
  "nbformat": 4,
  "nbformat_minor": 0
}